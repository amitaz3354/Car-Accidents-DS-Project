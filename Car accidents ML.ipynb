{
 "cells": [
  {
   "cell_type": "markdown",
   "metadata": {},
   "source": [
    "# Imports\n"
   ]
  },
  {
   "cell_type": "code",
   "execution_count": 1,
   "metadata": {},
   "outputs": [
    {
     "name": "stderr",
     "output_type": "stream",
     "text": [
      "Using TensorFlow backend.\n"
     ]
    }
   ],
   "source": [
    "import numpy as np \n",
    "import pandas as pd\n",
    "from xgboost import XGBClassifier\n",
    "from sklearn.model_selection import train_test_split\n",
    "from sklearn.metrics import classification_report,accuracy_score,precision_score,recall_score\n",
    "from sklearn.linear_model import LogisticRegression\n",
    "from sklearn.tree import DecisionTreeClassifier\n",
    "from sklearn.svm import SVC\n",
    "from sklearn.ensemble import RandomForestClassifier\n",
    "from sklearn.neighbors import KNeighborsClassifier\n",
    "from imblearn.over_sampling import SMOTENC"
   ]
  },
  {
   "cell_type": "markdown",
   "metadata": {},
   "source": [
    "# Loading the dataset"
   ]
  },
  {
   "cell_type": "code",
   "execution_count": 2,
   "metadata": {},
   "outputs": [],
   "source": [
    "df = pd.read_csv('teuonot.csv')"
   ]
  },
  {
   "cell_type": "code",
   "execution_count": 3,
   "metadata": {},
   "outputs": [
    {
     "data": {
      "text/html": [
       "<div>\n",
       "<style scoped>\n",
       "    .dataframe tbody tr th:only-of-type {\n",
       "        vertical-align: middle;\n",
       "    }\n",
       "\n",
       "    .dataframe tbody tr th {\n",
       "        vertical-align: top;\n",
       "    }\n",
       "\n",
       "    .dataframe thead th {\n",
       "        text-align: right;\n",
       "    }\n",
       "</style>\n",
       "<table border=\"1\" class=\"dataframe\">\n",
       "  <thead>\n",
       "    <tr style=\"text-align: right;\">\n",
       "      <th></th>\n",
       "      <th>THUM_GEOGRAFI</th>\n",
       "      <th>SUG_DEREH</th>\n",
       "      <th>HODESH_TEUNA</th>\n",
       "      <th>SHAA</th>\n",
       "      <th>SUG_YOM</th>\n",
       "      <th>YOM_LAYLA</th>\n",
       "      <th>YOM_BASHAVUA</th>\n",
       "      <th>HUMRAT_TEUNA</th>\n",
       "      <th>SUG_TEUNA</th>\n",
       "      <th>HAD_MASLUL</th>\n",
       "      <th>RAV_MASLUL</th>\n",
       "      <th>MEHIRUT_MUTERET</th>\n",
       "      <th>TKINUT</th>\n",
       "      <th>ROHAV</th>\n",
       "      <th>SIMUN_TIMRUR</th>\n",
       "      <th>TEURA</th>\n",
       "      <th>MEZEG_AVIR</th>\n",
       "      <th>PNE_KVISH</th>\n",
       "    </tr>\n",
       "  </thead>\n",
       "  <tbody>\n",
       "    <tr>\n",
       "      <th>0</th>\n",
       "      <td>1</td>\n",
       "      <td>2</td>\n",
       "      <td>1</td>\n",
       "      <td>75</td>\n",
       "      <td>4</td>\n",
       "      <td>5</td>\n",
       "      <td>5</td>\n",
       "      <td>2</td>\n",
       "      <td>2</td>\n",
       "      <td>0</td>\n",
       "      <td>3</td>\n",
       "      <td>1</td>\n",
       "      <td>1</td>\n",
       "      <td>2</td>\n",
       "      <td>3</td>\n",
       "      <td>3</td>\n",
       "      <td>1</td>\n",
       "      <td>1</td>\n",
       "    </tr>\n",
       "    <tr>\n",
       "      <th>1</th>\n",
       "      <td>1</td>\n",
       "      <td>4</td>\n",
       "      <td>7</td>\n",
       "      <td>67</td>\n",
       "      <td>4</td>\n",
       "      <td>1</td>\n",
       "      <td>5</td>\n",
       "      <td>3</td>\n",
       "      <td>11</td>\n",
       "      <td>0</td>\n",
       "      <td>4</td>\n",
       "      <td>1</td>\n",
       "      <td>1</td>\n",
       "      <td>0</td>\n",
       "      <td>3</td>\n",
       "      <td>1</td>\n",
       "      <td>1</td>\n",
       "      <td>1</td>\n",
       "    </tr>\n",
       "    <tr>\n",
       "      <th>2</th>\n",
       "      <td>1</td>\n",
       "      <td>2</td>\n",
       "      <td>6</td>\n",
       "      <td>82</td>\n",
       "      <td>4</td>\n",
       "      <td>5</td>\n",
       "      <td>2</td>\n",
       "      <td>3</td>\n",
       "      <td>1</td>\n",
       "      <td>9</td>\n",
       "      <td>0</td>\n",
       "      <td>0</td>\n",
       "      <td>0</td>\n",
       "      <td>0</td>\n",
       "      <td>5</td>\n",
       "      <td>6</td>\n",
       "      <td>9</td>\n",
       "      <td>9</td>\n",
       "    </tr>\n",
       "    <tr>\n",
       "      <th>3</th>\n",
       "      <td>1</td>\n",
       "      <td>1</td>\n",
       "      <td>7</td>\n",
       "      <td>54</td>\n",
       "      <td>4</td>\n",
       "      <td>1</td>\n",
       "      <td>4</td>\n",
       "      <td>1</td>\n",
       "      <td>4</td>\n",
       "      <td>0</td>\n",
       "      <td>3</td>\n",
       "      <td>1</td>\n",
       "      <td>1</td>\n",
       "      <td>3</td>\n",
       "      <td>3</td>\n",
       "      <td>1</td>\n",
       "      <td>1</td>\n",
       "      <td>1</td>\n",
       "    </tr>\n",
       "    <tr>\n",
       "      <th>4</th>\n",
       "      <td>1</td>\n",
       "      <td>2</td>\n",
       "      <td>3</td>\n",
       "      <td>47</td>\n",
       "      <td>4</td>\n",
       "      <td>1</td>\n",
       "      <td>1</td>\n",
       "      <td>3</td>\n",
       "      <td>2</td>\n",
       "      <td>1</td>\n",
       "      <td>0</td>\n",
       "      <td>1</td>\n",
       "      <td>1</td>\n",
       "      <td>0</td>\n",
       "      <td>3</td>\n",
       "      <td>1</td>\n",
       "      <td>1</td>\n",
       "      <td>1</td>\n",
       "    </tr>\n",
       "  </tbody>\n",
       "</table>\n",
       "</div>"
      ],
      "text/plain": [
       "   THUM_GEOGRAFI  SUG_DEREH  HODESH_TEUNA  SHAA  SUG_YOM  YOM_LAYLA  \\\n",
       "0              1          2             1    75        4          5   \n",
       "1              1          4             7    67        4          1   \n",
       "2              1          2             6    82        4          5   \n",
       "3              1          1             7    54        4          1   \n",
       "4              1          2             3    47        4          1   \n",
       "\n",
       "   YOM_BASHAVUA  HUMRAT_TEUNA  SUG_TEUNA  HAD_MASLUL  RAV_MASLUL  \\\n",
       "0             5             2          2           0           3   \n",
       "1             5             3         11           0           4   \n",
       "2             2             3          1           9           0   \n",
       "3             4             1          4           0           3   \n",
       "4             1             3          2           1           0   \n",
       "\n",
       "   MEHIRUT_MUTERET  TKINUT  ROHAV  SIMUN_TIMRUR  TEURA  MEZEG_AVIR  PNE_KVISH  \n",
       "0                1       1      2             3      3           1          1  \n",
       "1                1       1      0             3      1           1          1  \n",
       "2                0       0      0             5      6           9          9  \n",
       "3                1       1      3             3      1           1          1  \n",
       "4                1       1      0             3      1           1          1  "
      ]
     },
     "execution_count": 3,
     "metadata": {},
     "output_type": "execute_result"
    }
   ],
   "source": [
    "df.head()"
   ]
  },
  {
   "cell_type": "markdown",
   "metadata": {},
   "source": [
    "# Setting features and Target"
   ]
  },
  {
   "cell_type": "code",
   "execution_count": 4,
   "metadata": {},
   "outputs": [],
   "source": [
    "X = df.drop('HUMRAT_TEUNA',axis=1).values\n",
    "y = df['HUMRAT_TEUNA'].values\n"
   ]
  },
  {
   "cell_type": "markdown",
   "metadata": {},
   "source": [
    "# Checking for imblance in the data and fixing it using SMOTENC"
   ]
  },
  {
   "cell_type": "code",
   "execution_count": 5,
   "metadata": {},
   "outputs": [
    {
     "name": "stdout",
     "output_type": "stream",
     "text": [
      "323\n",
      "1939\n",
      "11073\n"
     ]
    }
   ],
   "source": [
    "print(len(df[df['HUMRAT_TEUNA'] == 1])) # Deadly accident\n",
    "print(len(df[df['HUMRAT_TEUNA'] == 2])) # Hard accident\n",
    "print(len(df[df['HUMRAT_TEUNA'] == 3])) #Easy accident"
   ]
  },
  {
   "cell_type": "code",
   "execution_count": 6,
   "metadata": {},
   "outputs": [],
   "source": [
    "smote = SMOTENC(categorical_features=[0,16],sampling_strategy='not majority')\n",
    "X,y = smote.fit_sample(X,y)"
   ]
  },
  {
   "cell_type": "code",
   "execution_count": 7,
   "metadata": {},
   "outputs": [],
   "source": [
    "X_train, X_test, y_train, y_test = train_test_split(X,y, test_size=0.2, random_state=42)"
   ]
  },
  {
   "cell_type": "markdown",
   "metadata": {},
   "source": [
    "# Running classification models"
   ]
  },
  {
   "cell_type": "code",
   "execution_count": 8,
   "metadata": {},
   "outputs": [],
   "source": [
    "models = {'svm':SVC(),\n",
    "         'dtree':DecisionTreeClassifier(),\n",
    "         'rfc' : RandomForestClassifier(n_estimators=100),\n",
    "         'xgb':XGBClassifier(),\n",
    "         'log':LogisticRegression(),\n",
    "         'KNN':KNeighborsClassifier()}\n"
   ]
  },
  {
   "cell_type": "code",
   "execution_count": 9,
   "metadata": {},
   "outputs": [
    {
     "name": "stderr",
     "output_type": "stream",
     "text": [
      "C:\\Users\\Amit Aizenkot Moyal\\AppData\\Local\\Continuum\\anaconda3\\lib\\site-packages\\sklearn\\svm\\base.py:193: FutureWarning: The default value of gamma will change from 'auto' to 'scale' in version 0.22 to account better for unscaled features. Set gamma explicitly to 'auto' or 'scale' to avoid this warning.\n",
      "  \"avoid this warning.\", FutureWarning)\n"
     ]
    },
    {
     "name": "stdout",
     "output_type": "stream",
     "text": [
      "____the results of svm_____:\n",
      "Accuracy:0.87\n",
      "Precision:0.87\n",
      "Recall:0.87\n",
      "\n",
      "\n",
      "              precision    recall  f1-score   support\n",
      "\n",
      "           1       0.93      0.99      0.96      2199\n",
      "           2       0.81      0.86      0.83      2220\n",
      "           3       0.86      0.74      0.80      2225\n",
      "\n",
      "    accuracy                           0.87      6644\n",
      "   macro avg       0.87      0.87      0.86      6644\n",
      "weighted avg       0.87      0.87      0.86      6644\n",
      "\n",
      "\n",
      "\n",
      "____the results of dtree_____:\n",
      "Accuracy:0.84\n",
      "Precision:0.84\n",
      "Recall:0.84\n",
      "\n",
      "\n",
      "              precision    recall  f1-score   support\n",
      "\n",
      "           1       0.89      0.92      0.91      2199\n",
      "           2       0.79      0.78      0.79      2220\n",
      "           3       0.84      0.81      0.82      2225\n",
      "\n",
      "    accuracy                           0.84      6644\n",
      "   macro avg       0.84      0.84      0.84      6644\n",
      "weighted avg       0.84      0.84      0.84      6644\n",
      "\n",
      "\n",
      "\n",
      "____the results of rfc_____:\n",
      "Accuracy:0.92\n",
      "Precision:0.92\n",
      "Recall:0.92\n",
      "\n",
      "\n",
      "              precision    recall  f1-score   support\n",
      "\n",
      "           1       0.97      0.97      0.97      2199\n",
      "           2       0.94      0.84      0.89      2220\n",
      "           3       0.87      0.96      0.91      2225\n",
      "\n",
      "    accuracy                           0.92      6644\n",
      "   macro avg       0.92      0.92      0.92      6644\n",
      "weighted avg       0.92      0.92      0.92      6644\n",
      "\n",
      "\n",
      "\n",
      "____the results of xgb_____:\n",
      "Accuracy:0.76\n",
      "Precision:0.76\n",
      "Recall:0.76\n",
      "\n",
      "\n",
      "              precision    recall  f1-score   support\n",
      "\n",
      "           1       0.72      0.80      0.76      2199\n",
      "           2       0.74      0.53      0.62      2220\n",
      "           3       0.81      0.95      0.87      2225\n",
      "\n",
      "    accuracy                           0.76      6644\n",
      "   macro avg       0.76      0.76      0.75      6644\n",
      "weighted avg       0.76      0.76      0.75      6644\n",
      "\n",
      "\n",
      "\n"
     ]
    },
    {
     "name": "stderr",
     "output_type": "stream",
     "text": [
      "C:\\Users\\Amit Aizenkot Moyal\\AppData\\Local\\Continuum\\anaconda3\\lib\\site-packages\\sklearn\\linear_model\\logistic.py:432: FutureWarning: Default solver will be changed to 'lbfgs' in 0.22. Specify a solver to silence this warning.\n",
      "  FutureWarning)\n",
      "C:\\Users\\Amit Aizenkot Moyal\\AppData\\Local\\Continuum\\anaconda3\\lib\\site-packages\\sklearn\\linear_model\\logistic.py:469: FutureWarning: Default multi_class will be changed to 'auto' in 0.22. Specify the multi_class option to silence this warning.\n",
      "  \"this warning.\", FutureWarning)\n"
     ]
    },
    {
     "name": "stdout",
     "output_type": "stream",
     "text": [
      "____the results of log_____:\n",
      "Accuracy:0.47\n",
      "Precision:0.46\n",
      "Recall:0.47\n",
      "\n",
      "\n",
      "              precision    recall  f1-score   support\n",
      "\n",
      "           1       0.50      0.61      0.55      2199\n",
      "           2       0.42      0.24      0.30      2220\n",
      "           3       0.47      0.58      0.52      2225\n",
      "\n",
      "    accuracy                           0.47      6644\n",
      "   macro avg       0.46      0.47      0.46      6644\n",
      "weighted avg       0.46      0.47      0.46      6644\n",
      "\n",
      "\n",
      "\n",
      "____the results of KNN_____:\n",
      "Accuracy:0.82\n",
      "Precision:0.85\n",
      "Recall:0.82\n",
      "\n",
      "\n",
      "              precision    recall  f1-score   support\n",
      "\n",
      "           1       0.86      1.00      0.92      2199\n",
      "           2       0.73      0.95      0.83      2220\n",
      "           3       0.94      0.51      0.67      2225\n",
      "\n",
      "    accuracy                           0.82      6644\n",
      "   macro avg       0.85      0.82      0.81      6644\n",
      "weighted avg       0.85      0.82      0.81      6644\n",
      "\n",
      "\n",
      "\n"
     ]
    }
   ],
   "source": [
    "for name,model in models.items():\n",
    "    model = model \n",
    "    model.fit(X_train,y_train)\n",
    "    pred = model.predict(X_test)\n",
    "    print (f'____the results of {name}_____:')\n",
    "    print('Accuracy:{0:.2f}'.format(accuracy_score(y_test,pred)))\n",
    "    print('Precision:{0:.2f}'.format(precision_score(y_test,pred,average='macro')))\n",
    "    print('Recall:{0:.2f}'.format(recall_score(y_test,pred,average='macro')))\n",
    "    print('\\n')\n",
    "    print(classification_report(y_test,pred))\n",
    "    print('\\n')\n",
    "    "
   ]
  }
 ],
 "metadata": {
  "kernelspec": {
   "display_name": "Python 3",
   "language": "python",
   "name": "python3"
  },
  "language_info": {
   "codemirror_mode": {
    "name": "ipython",
    "version": 3
   },
   "file_extension": ".py",
   "mimetype": "text/x-python",
   "name": "python",
   "nbconvert_exporter": "python",
   "pygments_lexer": "ipython3",
   "version": "3.6.7"
  }
 },
 "nbformat": 4,
 "nbformat_minor": 2
}
